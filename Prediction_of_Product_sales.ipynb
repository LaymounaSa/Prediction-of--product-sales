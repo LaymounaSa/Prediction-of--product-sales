{
  "nbformat": 4,
  "nbformat_minor": 0,
  "metadata": {
    "colab": {
      "provenance": [],
      "authorship_tag": "ABX9TyPf33OFh1gfeCSAQf3T8jCp",
      "include_colab_link": true
    },
    "kernelspec": {
      "name": "python3",
      "display_name": "Python 3"
    },
    "language_info": {
      "name": "python"
    }
  },
  "cells": [
    {
      "cell_type": "markdown",
      "metadata": {
        "id": "view-in-github",
        "colab_type": "text"
      },
      "source": [
        "<a href=\"https://colab.research.google.com/github/LaymounaSa/Prediction-of--product-sales/blob/main/Prediction_of_Product_sales.ipynb\" target=\"_parent\"><img src=\"https://colab.research.google.com/assets/colab-badge.svg\" alt=\"Open In Colab\"/></a>"
      ]
    },
    {
      "cell_type": "code",
      "execution_count": null,
      "metadata": {
        "id": "u_qWQL_j02d3"
      },
      "outputs": [],
      "source": [
        "\n"
      ]
    },
    {
      "cell_type": "markdown",
      "source": [
        "# Prediction of Product Sales\n",
        "- Lamia SAID\n",
        "## \"Project Overview\"\n",
        "## \"Load and Inspect Data\"\n",
        "## \"Clean Data\"\n",
        "## \"Exploratory Data Analysis\"\n",
        "## \"Feature Inspection\""
      ],
      "metadata": {
        "id": "B77BdyFk3Pvk"
      }
    }
  ]
}